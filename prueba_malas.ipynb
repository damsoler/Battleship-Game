{
 "cells": [
  {
   "cell_type": "code",
   "execution_count": 16,
   "metadata": {},
   "outputs": [],
   "source": [
    "from typing_extensions import Self\n",
    "\n",
    "\n",
    "class tablero:\n",
    "    \"\"\"clase tablero para el juego\"\"\"\n",
    "    matrix_coord = []\n",
    "    def __init__(self,nombre_jug):\n",
    "        self.nombre_jug = nombre_jug\n",
    "        \n",
    "     \n",
    "\n",
    "    def inicializar_tablero(matrix_coor):\n",
    "        from hf_variables import tamaño_tablero\n",
    "        import numpy as np\n",
    "        Self.matrix_coord = np.full((self.siz_tab,self.siz_tab), fill_value = ' ')\n",
    "        #return self.matrix_coord\n",
    "        \n",
    "    def imprimir_tablero():\n",
    "        print(Self.matrix_coord)\n"
   ]
  },
  {
   "cell_type": "code",
   "execution_count": 17,
   "metadata": {},
   "outputs": [],
   "source": [
    "jit1= tablero(\"pepito\")"
   ]
  },
  {
   "cell_type": "code",
   "execution_count": 18,
   "metadata": {},
   "outputs": [
    {
     "data": {
      "text/plain": [
       "'pepito'"
      ]
     },
     "execution_count": 18,
     "metadata": {},
     "output_type": "execute_result"
    }
   ],
   "source": [
    "jit1.nombre_jug"
   ]
  },
  {
   "cell_type": "code",
   "execution_count": 19,
   "metadata": {},
   "outputs": [
    {
     "ename": "NameError",
     "evalue": "name 'self' is not defined",
     "output_type": "error",
     "traceback": [
      "\u001b[1;31m---------------------------------------------------------------------------\u001b[0m",
      "\u001b[1;31mNameError\u001b[0m                                 Traceback (most recent call last)",
      "Cell \u001b[1;32mIn [19], line 1\u001b[0m\n\u001b[1;32m----> 1\u001b[0m jit1\u001b[39m.\u001b[39minicializar_tablero()\n",
      "Cell \u001b[1;32mIn [16], line 12\u001b[0m, in \u001b[0;36mtablero.inicializar_tablero\u001b[1;34m(matrix_coord)\u001b[0m\n\u001b[0;32m     10\u001b[0m \u001b[39mfrom\u001b[39;00m \u001b[39mhf_variables\u001b[39;00m \u001b[39mimport\u001b[39;00m tamaño_tablero\n\u001b[0;32m     11\u001b[0m \u001b[39mimport\u001b[39;00m \u001b[39mnumpy\u001b[39;00m \u001b[39mas\u001b[39;00m \u001b[39mnp\u001b[39;00m\n\u001b[1;32m---> 12\u001b[0m \u001b[39mself\u001b[39m\u001b[39m.\u001b[39mmatrix_coord \u001b[39m=\u001b[39m np\u001b[39m.\u001b[39mfull((\u001b[39mself\u001b[39;49m\u001b[39m.\u001b[39msiz_tab,\u001b[39mself\u001b[39m\u001b[39m.\u001b[39msiz_tab), fill_value \u001b[39m=\u001b[39m \u001b[39m'\u001b[39m\u001b[39m \u001b[39m\u001b[39m'\u001b[39m)\n",
      "\u001b[1;31mNameError\u001b[0m: name 'self' is not defined"
     ]
    }
   ],
   "source": [
    "jit1.inicializar_tablero()"
   ]
  },
  {
   "cell_type": "code",
   "execution_count": null,
   "metadata": {},
   "outputs": [],
   "source": []
  }
 ],
 "metadata": {
  "kernelspec": {
   "display_name": "Python 3.9.13 ('core_env')",
   "language": "python",
   "name": "python3"
  },
  "language_info": {
   "codemirror_mode": {
    "name": "ipython",
    "version": 3
   },
   "file_extension": ".py",
   "mimetype": "text/x-python",
   "name": "python",
   "nbconvert_exporter": "python",
   "pygments_lexer": "ipython3",
   "version": "3.9.13"
  },
  "orig_nbformat": 4,
  "vscode": {
   "interpreter": {
    "hash": "ad3f0e2c7718e4f1acbc04e1a2feb2f4e2a33bf8329c425b280b371a0ea16b94"
   }
  }
 },
 "nbformat": 4,
 "nbformat_minor": 2
}
